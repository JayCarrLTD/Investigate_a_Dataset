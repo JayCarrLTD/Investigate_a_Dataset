{
 "cells": [
  {
   "cell_type": "markdown",
   "metadata": {},
   "source": [
    "# Project: Medical Company Analysis\n",
    "\n",
    "## Table of Contents\n",
    "<ul>\n",
    "<li><a href=\"#intro\">Introduction</a></li>\n",
    "<li><a href=\"#wrangling\">Data Wrangling</a></li>\n",
    "<li><a href=\"#eda\">Exploratory Data Analysis</a></li>\n",
    "<li><a href=\"#conclusions\">Conclusions</a></li>\n",
    "</ul>"
   ]
  },
  {
   "cell_type": "markdown",
   "metadata": {},
   "source": [
    "<a id='intro'></a>\n",
    "## Introduction\n",
    "\n",
    "A physician’s office wants to gain a better understanding of their patients and their probabilty of a no show appointment. The dataset shows the data associated with the medical office and details the clients information and whether or not they were a no show or not. "
   ]
  },
  {
   "cell_type": "markdown",
   "metadata": {},
   "source": [
    "# Question\n",
    "What measures can be taken to reduce the number of no-show patients?"
   ]
  },
  {
   "cell_type": "markdown",
   "metadata": {},
   "source": [
    "# Understand\n",
    "<br>The office would like the know the following: <br>\n",
    "<br>1. What percentage of patients are a no show?\n",
    "<br>2. Are text message reminders an effective way to reduce the amount of no shows?\n",
    "<br>3. Which age group has the most amount of no shows?<br>\n",
    "\n",
    "<br>By learning patient habits in regard to appointments and no shows, the physicians office is able to more effectively target their customers to decrease no shows which would increase revenue."
   ]
  },
  {
   "cell_type": "markdown",
   "metadata": {},
   "source": [
    "# Exploration"
   ]
  },
  {
   "cell_type": "markdown",
   "metadata": {},
   "source": [
    "## Data Wrangling\n",
    "\n",
    "> Before we get into the analysis portion of this project, we're going to first assess the data to dertmine if there is any cleaning that needs to be performed.\n",
    "\n",
    "### Initial Exploration"
   ]
  },
  {
   "cell_type": "code",
   "execution_count": 43,
   "metadata": {},
   "outputs": [],
   "source": [
    "#Importing appropriate packes \n",
    "import pandas as pd\n",
    "import numpy as np\n",
    "import matplotlib.pyplot as plt\n",
    "import seaborn as sb\n",
    "%matplotlib inline\n",
    "\n",
    "#The dataset was obtained from: \n",
    "medical_original = pd.read_csv('noshowappointments.csv')"
   ]
  },
  {
   "cell_type": "code",
   "execution_count": 44,
   "metadata": {},
   "outputs": [],
   "source": [
    "#Making a copy of the dataset so that way the main dataset remains unchanged of access is needed again.\n",
    "medical = medical_original.copy()"
   ]
  },
  {
   "cell_type": "code",
   "execution_count": 3,
   "metadata": {},
   "outputs": [
    {
     "data": {
      "text/html": [
       "<div>\n",
       "<style scoped>\n",
       "    .dataframe tbody tr th:only-of-type {\n",
       "        vertical-align: middle;\n",
       "    }\n",
       "\n",
       "    .dataframe tbody tr th {\n",
       "        vertical-align: top;\n",
       "    }\n",
       "\n",
       "    .dataframe thead th {\n",
       "        text-align: right;\n",
       "    }\n",
       "</style>\n",
       "<table border=\"1\" class=\"dataframe\">\n",
       "  <thead>\n",
       "    <tr style=\"text-align: right;\">\n",
       "      <th></th>\n",
       "      <th>PatientId</th>\n",
       "      <th>AppointmentID</th>\n",
       "      <th>Gender</th>\n",
       "      <th>ScheduledDay</th>\n",
       "      <th>AppointmentDay</th>\n",
       "      <th>Age</th>\n",
       "      <th>Neighbourhood</th>\n",
       "      <th>Scholarship</th>\n",
       "      <th>Hipertension</th>\n",
       "      <th>Diabetes</th>\n",
       "      <th>Alcoholism</th>\n",
       "      <th>Handcap</th>\n",
       "      <th>SMS_received</th>\n",
       "      <th>No-show</th>\n",
       "    </tr>\n",
       "  </thead>\n",
       "  <tbody>\n",
       "    <tr>\n",
       "      <th>0</th>\n",
       "      <td>2.987250e+13</td>\n",
       "      <td>5642903</td>\n",
       "      <td>F</td>\n",
       "      <td>2016-04-29T18:38:08Z</td>\n",
       "      <td>2016-04-29T00:00:00Z</td>\n",
       "      <td>62</td>\n",
       "      <td>JARDIM DA PENHA</td>\n",
       "      <td>0</td>\n",
       "      <td>1</td>\n",
       "      <td>0</td>\n",
       "      <td>0</td>\n",
       "      <td>0</td>\n",
       "      <td>0</td>\n",
       "      <td>No</td>\n",
       "    </tr>\n",
       "    <tr>\n",
       "      <th>1</th>\n",
       "      <td>5.589978e+14</td>\n",
       "      <td>5642503</td>\n",
       "      <td>M</td>\n",
       "      <td>2016-04-29T16:08:27Z</td>\n",
       "      <td>2016-04-29T00:00:00Z</td>\n",
       "      <td>56</td>\n",
       "      <td>JARDIM DA PENHA</td>\n",
       "      <td>0</td>\n",
       "      <td>0</td>\n",
       "      <td>0</td>\n",
       "      <td>0</td>\n",
       "      <td>0</td>\n",
       "      <td>0</td>\n",
       "      <td>No</td>\n",
       "    </tr>\n",
       "    <tr>\n",
       "      <th>2</th>\n",
       "      <td>4.262962e+12</td>\n",
       "      <td>5642549</td>\n",
       "      <td>F</td>\n",
       "      <td>2016-04-29T16:19:04Z</td>\n",
       "      <td>2016-04-29T00:00:00Z</td>\n",
       "      <td>62</td>\n",
       "      <td>MATA DA PRAIA</td>\n",
       "      <td>0</td>\n",
       "      <td>0</td>\n",
       "      <td>0</td>\n",
       "      <td>0</td>\n",
       "      <td>0</td>\n",
       "      <td>0</td>\n",
       "      <td>No</td>\n",
       "    </tr>\n",
       "    <tr>\n",
       "      <th>3</th>\n",
       "      <td>8.679512e+11</td>\n",
       "      <td>5642828</td>\n",
       "      <td>F</td>\n",
       "      <td>2016-04-29T17:29:31Z</td>\n",
       "      <td>2016-04-29T00:00:00Z</td>\n",
       "      <td>8</td>\n",
       "      <td>PONTAL DE CAMBURI</td>\n",
       "      <td>0</td>\n",
       "      <td>0</td>\n",
       "      <td>0</td>\n",
       "      <td>0</td>\n",
       "      <td>0</td>\n",
       "      <td>0</td>\n",
       "      <td>No</td>\n",
       "    </tr>\n",
       "    <tr>\n",
       "      <th>4</th>\n",
       "      <td>8.841186e+12</td>\n",
       "      <td>5642494</td>\n",
       "      <td>F</td>\n",
       "      <td>2016-04-29T16:07:23Z</td>\n",
       "      <td>2016-04-29T00:00:00Z</td>\n",
       "      <td>56</td>\n",
       "      <td>JARDIM DA PENHA</td>\n",
       "      <td>0</td>\n",
       "      <td>1</td>\n",
       "      <td>1</td>\n",
       "      <td>0</td>\n",
       "      <td>0</td>\n",
       "      <td>0</td>\n",
       "      <td>No</td>\n",
       "    </tr>\n",
       "  </tbody>\n",
       "</table>\n",
       "</div>"
      ],
      "text/plain": [
       "      PatientId  AppointmentID Gender          ScheduledDay  \\\n",
       "0  2.987250e+13        5642903      F  2016-04-29T18:38:08Z   \n",
       "1  5.589978e+14        5642503      M  2016-04-29T16:08:27Z   \n",
       "2  4.262962e+12        5642549      F  2016-04-29T16:19:04Z   \n",
       "3  8.679512e+11        5642828      F  2016-04-29T17:29:31Z   \n",
       "4  8.841186e+12        5642494      F  2016-04-29T16:07:23Z   \n",
       "\n",
       "         AppointmentDay  Age      Neighbourhood  Scholarship  Hipertension  \\\n",
       "0  2016-04-29T00:00:00Z   62    JARDIM DA PENHA            0             1   \n",
       "1  2016-04-29T00:00:00Z   56    JARDIM DA PENHA            0             0   \n",
       "2  2016-04-29T00:00:00Z   62      MATA DA PRAIA            0             0   \n",
       "3  2016-04-29T00:00:00Z    8  PONTAL DE CAMBURI            0             0   \n",
       "4  2016-04-29T00:00:00Z   56    JARDIM DA PENHA            0             1   \n",
       "\n",
       "   Diabetes  Alcoholism  Handcap  SMS_received No-show  \n",
       "0         0           0        0             0      No  \n",
       "1         0           0        0             0      No  \n",
       "2         0           0        0             0      No  \n",
       "3         0           0        0             0      No  \n",
       "4         1           0        0             0      No  "
      ]
     },
     "execution_count": 3,
     "metadata": {},
     "output_type": "execute_result"
    }
   ],
   "source": [
    "medical.head()"
   ]
  },
  {
   "cell_type": "code",
   "execution_count": 4,
   "metadata": {
    "scrolled": true
   },
   "outputs": [
    {
     "name": "stdout",
     "output_type": "stream",
     "text": [
      "<class 'pandas.core.frame.DataFrame'>\n",
      "RangeIndex: 110527 entries, 0 to 110526\n",
      "Data columns (total 14 columns):\n",
      "PatientId         110527 non-null float64\n",
      "AppointmentID     110527 non-null int64\n",
      "Gender            110527 non-null object\n",
      "ScheduledDay      110527 non-null object\n",
      "AppointmentDay    110527 non-null object\n",
      "Age               110527 non-null int64\n",
      "Neighbourhood     110527 non-null object\n",
      "Scholarship       110527 non-null int64\n",
      "Hipertension      110527 non-null int64\n",
      "Diabetes          110527 non-null int64\n",
      "Alcoholism        110527 non-null int64\n",
      "Handcap           110527 non-null int64\n",
      "SMS_received      110527 non-null int64\n",
      "No-show           110527 non-null object\n",
      "dtypes: float64(1), int64(8), object(5)\n",
      "memory usage: 11.8+ MB\n"
     ]
    }
   ],
   "source": [
    "medical.info()"
   ]
  },
  {
   "cell_type": "code",
   "execution_count": 45,
   "metadata": {
    "scrolled": false
   },
   "outputs": [
    {
     "data": {
      "text/html": [
       "<div>\n",
       "<style scoped>\n",
       "    .dataframe tbody tr th:only-of-type {\n",
       "        vertical-align: middle;\n",
       "    }\n",
       "\n",
       "    .dataframe tbody tr th {\n",
       "        vertical-align: top;\n",
       "    }\n",
       "\n",
       "    .dataframe thead th {\n",
       "        text-align: right;\n",
       "    }\n",
       "</style>\n",
       "<table border=\"1\" class=\"dataframe\">\n",
       "  <thead>\n",
       "    <tr style=\"text-align: right;\">\n",
       "      <th></th>\n",
       "      <th>Age</th>\n",
       "      <th>Scholarship</th>\n",
       "      <th>Hipertension</th>\n",
       "      <th>Diabetes</th>\n",
       "      <th>Alcoholism</th>\n",
       "      <th>Handcap</th>\n",
       "      <th>SMS_received</th>\n",
       "    </tr>\n",
       "  </thead>\n",
       "  <tbody>\n",
       "    <tr>\n",
       "      <th>count</th>\n",
       "      <td>110527.000000</td>\n",
       "      <td>110527.000000</td>\n",
       "      <td>110527.000000</td>\n",
       "      <td>110527.000000</td>\n",
       "      <td>110527.000000</td>\n",
       "      <td>110527.000000</td>\n",
       "      <td>110527.000000</td>\n",
       "    </tr>\n",
       "    <tr>\n",
       "      <th>mean</th>\n",
       "      <td>37.088874</td>\n",
       "      <td>0.098266</td>\n",
       "      <td>0.197246</td>\n",
       "      <td>0.071865</td>\n",
       "      <td>0.030400</td>\n",
       "      <td>0.022248</td>\n",
       "      <td>0.321026</td>\n",
       "    </tr>\n",
       "    <tr>\n",
       "      <th>std</th>\n",
       "      <td>23.110205</td>\n",
       "      <td>0.297675</td>\n",
       "      <td>0.397921</td>\n",
       "      <td>0.258265</td>\n",
       "      <td>0.171686</td>\n",
       "      <td>0.161543</td>\n",
       "      <td>0.466873</td>\n",
       "    </tr>\n",
       "    <tr>\n",
       "      <th>min</th>\n",
       "      <td>-1.000000</td>\n",
       "      <td>0.000000</td>\n",
       "      <td>0.000000</td>\n",
       "      <td>0.000000</td>\n",
       "      <td>0.000000</td>\n",
       "      <td>0.000000</td>\n",
       "      <td>0.000000</td>\n",
       "    </tr>\n",
       "    <tr>\n",
       "      <th>25%</th>\n",
       "      <td>18.000000</td>\n",
       "      <td>0.000000</td>\n",
       "      <td>0.000000</td>\n",
       "      <td>0.000000</td>\n",
       "      <td>0.000000</td>\n",
       "      <td>0.000000</td>\n",
       "      <td>0.000000</td>\n",
       "    </tr>\n",
       "    <tr>\n",
       "      <th>50%</th>\n",
       "      <td>37.000000</td>\n",
       "      <td>0.000000</td>\n",
       "      <td>0.000000</td>\n",
       "      <td>0.000000</td>\n",
       "      <td>0.000000</td>\n",
       "      <td>0.000000</td>\n",
       "      <td>0.000000</td>\n",
       "    </tr>\n",
       "    <tr>\n",
       "      <th>75%</th>\n",
       "      <td>55.000000</td>\n",
       "      <td>0.000000</td>\n",
       "      <td>0.000000</td>\n",
       "      <td>0.000000</td>\n",
       "      <td>0.000000</td>\n",
       "      <td>0.000000</td>\n",
       "      <td>1.000000</td>\n",
       "    </tr>\n",
       "    <tr>\n",
       "      <th>max</th>\n",
       "      <td>115.000000</td>\n",
       "      <td>1.000000</td>\n",
       "      <td>1.000000</td>\n",
       "      <td>1.000000</td>\n",
       "      <td>1.000000</td>\n",
       "      <td>4.000000</td>\n",
       "      <td>1.000000</td>\n",
       "    </tr>\n",
       "  </tbody>\n",
       "</table>\n",
       "</div>"
      ],
      "text/plain": [
       "                 Age    Scholarship   Hipertension       Diabetes  \\\n",
       "count  110527.000000  110527.000000  110527.000000  110527.000000   \n",
       "mean       37.088874       0.098266       0.197246       0.071865   \n",
       "std        23.110205       0.297675       0.397921       0.258265   \n",
       "min        -1.000000       0.000000       0.000000       0.000000   \n",
       "25%        18.000000       0.000000       0.000000       0.000000   \n",
       "50%        37.000000       0.000000       0.000000       0.000000   \n",
       "75%        55.000000       0.000000       0.000000       0.000000   \n",
       "max       115.000000       1.000000       1.000000       1.000000   \n",
       "\n",
       "          Alcoholism        Handcap   SMS_received  \n",
       "count  110527.000000  110527.000000  110527.000000  \n",
       "mean        0.030400       0.022248       0.321026  \n",
       "std         0.171686       0.161543       0.466873  \n",
       "min         0.000000       0.000000       0.000000  \n",
       "25%         0.000000       0.000000       0.000000  \n",
       "50%         0.000000       0.000000       0.000000  \n",
       "75%         0.000000       0.000000       1.000000  \n",
       "max         1.000000       4.000000       1.000000  "
      ]
     },
     "execution_count": 45,
     "metadata": {},
     "output_type": "execute_result"
    }
   ],
   "source": [
    "medical[['Age', 'Scholarship','Hipertension', 'Diabetes', 'Alcoholism','Handcap','SMS_received' ]].describe()"
   ]
  },
  {
   "cell_type": "code",
   "execution_count": 54,
   "metadata": {
    "scrolled": true
   },
   "outputs": [
    {
     "data": {
      "image/png": "[encoded data removed]",
      "text/plain": [
       "<matplotlib.figure.Figure at 0x7fafe3211cf8>"
      ]
     },
     "metadata": {
      "needs_background": "light"
     },
     "output_type": "display_data"
    },
    {
     "data": {
      "image/png": "[encoded data removed]",
      "text/plain": [
       "<matplotlib.figure.Figure at 0x7fafe4144b38>"
      ]
     },
     "metadata": {
      "needs_background": "light"
     },
     "output_type": "display_data"
    }
   ],
   "source": [
    "#Histograms of each main category.\n",
    "plt.figure(figsize = [14,8])\n",
    "\n",
    "plt.subplot(1,3,1)\n",
    "plt.hist(medical['Age'])\n",
    "plt.title('Age Group Histagram')\n",
    "plt.xlabel('Age Groups')\n",
    "plt.ylabel('Count', fontsize = 14)\n",
    "\n",
    "#Plot 2\n",
    "plt.subplot(1,3,2)\n",
    "sb.countplot(x='Hipertension', data = medical)\n",
    "plt.title('Count of Patients With Hipertension')\n",
    "plt.xlabel('Hipertension No (0), Yes (1)')\n",
    "plt.ylabel('')\n",
    "\n",
    "#Plot 3\n",
    "plt.subplot(1,3,3)\n",
    "sb.countplot(x='Diabetes', data = medical)\n",
    "plt.title('Count of Patients With Diabetes ')\n",
    "plt.xlabel('Diabetes No (0), Yes (1)')\n",
    "plt.ylabel('')\n",
    "\n",
    "#SECOND GRAPH\n",
    "plt.figure(figsize = [14,8])\n",
    "\n",
    "#Plot 1\n",
    "plt.subplot(1,3,1)\n",
    "sb.countplot(x='Alcoholism', data = medical)\n",
    "plt.title('Count of Patients With Alcoholism')\n",
    "plt.xlabel('Alcoholism No (0), Yes (1)')\n",
    "plt.ylabel('Count', fontsize = 14)\n",
    "\n",
    "#Plot 2\n",
    "plt.subplot(1,3,2)\n",
    "sb.countplot(x='Handcap', data = medical)\n",
    "plt.title('Count of Patients With Handicap')\n",
    "plt.xlabel('Handcap No (0), Yes (1)')\n",
    "plt.ylabel('')\n",
    "#Plot 3\n",
    "plt.subplot(1,3,3)\n",
    "sb.countplot(x='SMS_received', data = medical)\n",
    "plt.title('Number of Text Received')\n",
    "plt.xlabel('Text Received No (0), Yes (1)')\n",
    "plt.ylabel('');\n"
   ]
  },
  {
   "cell_type": "markdown",
   "metadata": {},
   "source": [
    "### DATA CLEANING ISSUES"
   ]
  },
  {
   "cell_type": "markdown",
   "metadata": {},
   "source": [
    "A.\tQuality\n",
    "\n",
    "    a.\tPatient ID showing as float\n",
    "    b.\tAppointment ID showing as int\n",
    "    c.\tScheduled day and appointment showing as object instead of date\n",
    "    d.\tHandicap, Hupertension are spelt incorrectly \n",
    "    e.\tSplit time from schedule day\n",
    "    f.\tNoticed that there are actually duplicates in the data\n",
    "        \n",
    "B.\tTidiness<br>\n",
    "    \n",
    "    a.\tRemove z from the end of scheduled day and appointment day\n",
    "    b.\tChange sms_recieved to yes and no\n",
    "\n",
    "D.\tValidity<br>\n",
    "\n",
    "    a.\tAge showing -1, check to verify\n",
    "        i.\tPatient is showing as F, will assume that baby is unborn patient\n",
    "    b.\tHandicap is showing a max of 4 instead of 1\n",
    "        i.\tUpon review, handicap column shows muplipe tows with number greater than 1. Will make the assumption that these numbers are supposed to indicate 1 instead of their representative values\n",
    "        ii.\tChanged all ints greater than 1 to 1\n",
    "    c.\tMax age showing 115\n",
    "        i.\tWhile this is abnormal, it is a possible range of age group for individuals, \n",
    "\n",
    "Data Check<br>\n",
    "\n",
    "    i. Verified that Scholarship, hypertension, diabaest, alcoholism, and sms are a max of 1\n",
    "    ii. All counts are equal\n",
    "    iii. Verifited count total matched total counts \n",
    "        (110527, 14)\n",
    "    iv. Verified there are no null values\n",
    "    v. Verfied there are no duplicates \n"
   ]
  },
  {
   "cell_type": "markdown",
   "metadata": {},
   "source": [
    "### DESCRIBE\n",
    "#### Changing Datatypes to appropraite names and correcting spelling mistakes in headers\n",
    "\n",
    "In this next section, we will address and change the data types to reflect accurate data types as well as correcting a misspellings in the title data."
   ]
  },
  {
   "cell_type": "markdown",
   "metadata": {},
   "source": [
    "### CODE"
   ]
  },
  {
   "cell_type": "code",
   "execution_count": 32,
   "metadata": {},
   "outputs": [],
   "source": [
    "#Changing PatientID and AppointmentID to an object rather than as a numeric type\n",
    "\n",
    "medical[['PatientId', 'AppointmentID']] = medical[['PatientId', 'AppointmentID']].astype('object')\n",
    "\n",
    "#Changing ScheduledDay and AppointmentDay to date type\n",
    "\n",
    "medical[['ScheduledDay', 'AppointmentDay']] = medical[['ScheduledDay', 'AppointmentDay']].astype('datetime64')\n",
    "\n",
    "# Correcting the spelling of titles\n",
    "medical = medical.rename(index = str, columns = {'Hipertension' : 'Hypertension', 'Handcap' : 'Handicap'})\n",
    "\n"
   ]
  },
  {
   "cell_type": "markdown",
   "metadata": {},
   "source": [
    "### TEST"
   ]
  },
  {
   "cell_type": "code",
   "execution_count": 33,
   "metadata": {},
   "outputs": [
    {
     "data": {
      "text/plain": [
       "PatientId                 object\n",
       "AppointmentID             object\n",
       "Gender                    object\n",
       "ScheduledDay      datetime64[ns]\n",
       "AppointmentDay    datetime64[ns]\n",
       "Age                        int64\n",
       "Neighbourhood             object\n",
       "Scholarship                int64\n",
       "Hypertension               int64\n",
       "Diabetes                   int64\n",
       "Alcoholism                 int64\n",
       "Handicap                   int64\n",
       "SMS_received               int64\n",
       "No-show                   object\n",
       "dtype: object"
      ]
     },
     "execution_count": 33,
     "metadata": {},
     "output_type": "execute_result"
    }
   ],
   "source": [
    "#Verifying changes\n",
    "medical.dtypes"
   ]
  },
  {
   "cell_type": "markdown",
   "metadata": {},
   "source": [
    "### DESCRIBE\n",
    "#### Adjusting the numbers to 1 for Handicap\n",
    "> It was noted that there are several handicap rows that have numbers greater than 1. I'm going to assume that these are supposed to be 1 and not anything else. I adjusted the rows to change anything greater than 1 to 1."
   ]
  },
  {
   "cell_type": "markdown",
   "metadata": {},
   "source": [
    "### CODE"
   ]
  },
  {
   "cell_type": "code",
   "execution_count": 34,
   "metadata": {},
   "outputs": [],
   "source": [
    "medical['Handicap'] = medical['Handicap'].replace([2,3,4], 1)"
   ]
  },
  {
   "cell_type": "markdown",
   "metadata": {},
   "source": [
    "### TEST"
   ]
  },
  {
   "cell_type": "code",
   "execution_count": 35,
   "metadata": {},
   "outputs": [
    {
     "data": {
      "text/plain": [
       "0    108286\n",
       "1      2241\n",
       "Name: Handicap, dtype: int64"
      ]
     },
     "execution_count": 35,
     "metadata": {},
     "output_type": "execute_result"
    }
   ],
   "source": [
    "medical['Handicap'].value_counts()"
   ]
  },
  {
   "cell_type": "markdown",
   "metadata": {},
   "source": [
    "### DEFINE\n",
    "#### Adding Age Groups to the Table\n",
    ">For better analysis purposes, I've added age group bins. This will allow for an easy overview of which groups have a higher rate of no shows."
   ]
  },
  {
   "cell_type": "markdown",
   "metadata": {},
   "source": [
    "### CODE"
   ]
  },
  {
   "cell_type": "code",
   "execution_count": 36,
   "metadata": {
    "scrolled": true
   },
   "outputs": [
    {
     "data": {
      "text/html": [
       "<div>\n",
       "<style scoped>\n",
       "    .dataframe tbody tr th:only-of-type {\n",
       "        vertical-align: middle;\n",
       "    }\n",
       "\n",
       "    .dataframe tbody tr th {\n",
       "        vertical-align: top;\n",
       "    }\n",
       "\n",
       "    .dataframe thead th {\n",
       "        text-align: right;\n",
       "    }\n",
       "</style>\n",
       "<table border=\"1\" class=\"dataframe\">\n",
       "  <thead>\n",
       "    <tr style=\"text-align: right;\">\n",
       "      <th></th>\n",
       "      <th>PatientId</th>\n",
       "      <th>AppointmentID</th>\n",
       "      <th>Gender</th>\n",
       "      <th>ScheduledDay</th>\n",
       "      <th>AppointmentDay</th>\n",
       "      <th>Age</th>\n",
       "      <th>Neighbourhood</th>\n",
       "      <th>Scholarship</th>\n",
       "      <th>Hypertension</th>\n",
       "      <th>Diabetes</th>\n",
       "      <th>Alcoholism</th>\n",
       "      <th>Handicap</th>\n",
       "      <th>SMS_received</th>\n",
       "      <th>No-show</th>\n",
       "      <th>Groups</th>\n",
       "    </tr>\n",
       "  </thead>\n",
       "  <tbody>\n",
       "    <tr>\n",
       "      <th>0</th>\n",
       "      <td>2.98725e+13</td>\n",
       "      <td>5642903</td>\n",
       "      <td>F</td>\n",
       "      <td>2016-04-29 18:38:08</td>\n",
       "      <td>2016-04-29</td>\n",
       "      <td>62</td>\n",
       "      <td>JARDIM DA PENHA</td>\n",
       "      <td>0</td>\n",
       "      <td>1</td>\n",
       "      <td>0</td>\n",
       "      <td>0</td>\n",
       "      <td>0</td>\n",
       "      <td>0</td>\n",
       "      <td>No</td>\n",
       "      <td>Elder Adult</td>\n",
       "    </tr>\n",
       "    <tr>\n",
       "      <th>1</th>\n",
       "      <td>5.58998e+14</td>\n",
       "      <td>5642503</td>\n",
       "      <td>M</td>\n",
       "      <td>2016-04-29 16:08:27</td>\n",
       "      <td>2016-04-29</td>\n",
       "      <td>56</td>\n",
       "      <td>JARDIM DA PENHA</td>\n",
       "      <td>0</td>\n",
       "      <td>0</td>\n",
       "      <td>0</td>\n",
       "      <td>0</td>\n",
       "      <td>0</td>\n",
       "      <td>0</td>\n",
       "      <td>No</td>\n",
       "      <td>Elder Adult</td>\n",
       "    </tr>\n",
       "    <tr>\n",
       "      <th>2</th>\n",
       "      <td>4.26296e+12</td>\n",
       "      <td>5642549</td>\n",
       "      <td>F</td>\n",
       "      <td>2016-04-29 16:19:04</td>\n",
       "      <td>2016-04-29</td>\n",
       "      <td>62</td>\n",
       "      <td>MATA DA PRAIA</td>\n",
       "      <td>0</td>\n",
       "      <td>0</td>\n",
       "      <td>0</td>\n",
       "      <td>0</td>\n",
       "      <td>0</td>\n",
       "      <td>0</td>\n",
       "      <td>No</td>\n",
       "      <td>Elder Adult</td>\n",
       "    </tr>\n",
       "    <tr>\n",
       "      <th>3</th>\n",
       "      <td>8.67951e+11</td>\n",
       "      <td>5642828</td>\n",
       "      <td>F</td>\n",
       "      <td>2016-04-29 17:29:31</td>\n",
       "      <td>2016-04-29</td>\n",
       "      <td>8</td>\n",
       "      <td>PONTAL DE CAMBURI</td>\n",
       "      <td>0</td>\n",
       "      <td>0</td>\n",
       "      <td>0</td>\n",
       "      <td>0</td>\n",
       "      <td>0</td>\n",
       "      <td>0</td>\n",
       "      <td>No</td>\n",
       "      <td>Infant</td>\n",
       "    </tr>\n",
       "    <tr>\n",
       "      <th>4</th>\n",
       "      <td>8.84119e+12</td>\n",
       "      <td>5642494</td>\n",
       "      <td>F</td>\n",
       "      <td>2016-04-29 16:07:23</td>\n",
       "      <td>2016-04-29</td>\n",
       "      <td>56</td>\n",
       "      <td>JARDIM DA PENHA</td>\n",
       "      <td>0</td>\n",
       "      <td>1</td>\n",
       "      <td>1</td>\n",
       "      <td>0</td>\n",
       "      <td>0</td>\n",
       "      <td>0</td>\n",
       "      <td>No</td>\n",
       "      <td>Elder Adult</td>\n",
       "    </tr>\n",
       "  </tbody>\n",
       "</table>\n",
       "</div>"
      ],
      "text/plain": [
       "     PatientId AppointmentID Gender        ScheduledDay AppointmentDay  Age  \\\n",
       "0  2.98725e+13       5642903      F 2016-04-29 18:38:08     2016-04-29   62   \n",
       "1  5.58998e+14       5642503      M 2016-04-29 16:08:27     2016-04-29   56   \n",
       "2  4.26296e+12       5642549      F 2016-04-29 16:19:04     2016-04-29   62   \n",
       "3  8.67951e+11       5642828      F 2016-04-29 17:29:31     2016-04-29    8   \n",
       "4  8.84119e+12       5642494      F 2016-04-29 16:07:23     2016-04-29   56   \n",
       "\n",
       "       Neighbourhood  Scholarship  Hypertension  Diabetes  Alcoholism  \\\n",
       "0    JARDIM DA PENHA            0             1         0           0   \n",
       "1    JARDIM DA PENHA            0             0         0           0   \n",
       "2      MATA DA PRAIA            0             0         0           0   \n",
       "3  PONTAL DE CAMBURI            0             0         0           0   \n",
       "4    JARDIM DA PENHA            0             1         1           0   \n",
       "\n",
       "   Handicap  SMS_received No-show       Groups  \n",
       "0         0             0      No  Elder Adult  \n",
       "1         0             0      No  Elder Adult  \n",
       "2         0             0      No  Elder Adult  \n",
       "3         0             0      No       Infant  \n",
       "4         0             0      No  Elder Adult  "
      ]
     },
     "execution_count": 36,
     "metadata": {},
     "output_type": "execute_result"
    }
   ],
   "source": [
    "#Added bins to create categories for each age group\n",
    "#It was noticed that there was a -1 age which is assumed to be a pregnant woman which is why the bin starts\n",
    "#at number 1\n",
    "bins = [-1, 13, 18, 35, 55, 115]\n",
    "group_names = ['Infant', 'Teenager', 'Young Adult', 'Adult', 'Elder Adult']\n",
    "medical['Groups'] = pd.cut(medical['Age'], bins, labels = group_names)\n",
    "\n"
   ]
  },
  {
   "cell_type": "markdown",
   "metadata": {},
   "source": [
    "### TEST"
   ]
  },
  {
   "cell_type": "code",
   "execution_count": 40,
   "metadata": {},
   "outputs": [
    {
     "name": "stdout",
     "output_type": "stream",
     "text": [
      "<class 'pandas.core.frame.DataFrame'>\n",
      "Index: 110527 entries, 0 to 110526\n",
      "Data columns (total 15 columns):\n",
      "PatientId         110527 non-null object\n",
      "AppointmentID     110527 non-null object\n",
      "Gender            110527 non-null object\n",
      "ScheduledDay      110527 non-null datetime64[ns]\n",
      "AppointmentDay    110527 non-null datetime64[ns]\n",
      "Age               110527 non-null int64\n",
      "Neighbourhood     110527 non-null object\n",
      "Scholarship       110527 non-null int64\n",
      "Hypertension      110527 non-null int64\n",
      "Diabetes          110527 non-null int64\n",
      "Alcoholism        110527 non-null int64\n",
      "Handicap          110527 non-null int64\n",
      "SMS_received      110527 non-null int64\n",
      "No-show           110527 non-null object\n",
      "Groups            110526 non-null category\n",
      "dtypes: category(1), datetime64[ns](2), int64(7), object(5)\n",
      "memory usage: 17.8+ MB\n",
      "None\n"
     ]
    },
    {
     "data": {
      "text/html": [
       "<div>\n",
       "<style scoped>\n",
       "    .dataframe tbody tr th:only-of-type {\n",
       "        vertical-align: middle;\n",
       "    }\n",
       "\n",
       "    .dataframe tbody tr th {\n",
       "        vertical-align: top;\n",
       "    }\n",
       "\n",
       "    .dataframe thead th {\n",
       "        text-align: right;\n",
       "    }\n",
       "</style>\n",
       "<table border=\"1\" class=\"dataframe\">\n",
       "  <thead>\n",
       "    <tr style=\"text-align: right;\">\n",
       "      <th></th>\n",
       "      <th>count</th>\n",
       "      <th>mean</th>\n",
       "      <th>std</th>\n",
       "      <th>min</th>\n",
       "      <th>25%</th>\n",
       "      <th>50%</th>\n",
       "      <th>75%</th>\n",
       "      <th>max</th>\n",
       "    </tr>\n",
       "    <tr>\n",
       "      <th>Groups</th>\n",
       "      <th></th>\n",
       "      <th></th>\n",
       "      <th></th>\n",
       "      <th></th>\n",
       "      <th></th>\n",
       "      <th></th>\n",
       "      <th></th>\n",
       "      <th></th>\n",
       "    </tr>\n",
       "  </thead>\n",
       "  <tbody>\n",
       "    <tr>\n",
       "      <th>Infant</th>\n",
       "      <td>22139.0</td>\n",
       "      <td>5.369348</td>\n",
       "      <td>4.168631</td>\n",
       "      <td>0.0</td>\n",
       "      <td>1.0</td>\n",
       "      <td>5.0</td>\n",
       "      <td>9.0</td>\n",
       "      <td>13.0</td>\n",
       "    </tr>\n",
       "    <tr>\n",
       "      <th>Teenager</th>\n",
       "      <td>6727.0</td>\n",
       "      <td>16.154006</td>\n",
       "      <td>1.389205</td>\n",
       "      <td>14.0</td>\n",
       "      <td>15.0</td>\n",
       "      <td>16.0</td>\n",
       "      <td>17.0</td>\n",
       "      <td>18.0</td>\n",
       "    </tr>\n",
       "    <tr>\n",
       "      <th>Young Adult</th>\n",
       "      <td>24137.0</td>\n",
       "      <td>27.077392</td>\n",
       "      <td>4.962661</td>\n",
       "      <td>19.0</td>\n",
       "      <td>23.0</td>\n",
       "      <td>27.0</td>\n",
       "      <td>31.0</td>\n",
       "      <td>35.0</td>\n",
       "    </tr>\n",
       "    <tr>\n",
       "      <th>Adult</th>\n",
       "      <td>30019.0</td>\n",
       "      <td>45.615677</td>\n",
       "      <td>5.843961</td>\n",
       "      <td>36.0</td>\n",
       "      <td>40.0</td>\n",
       "      <td>46.0</td>\n",
       "      <td>51.0</td>\n",
       "      <td>55.0</td>\n",
       "    </tr>\n",
       "    <tr>\n",
       "      <th>Elder Adult</th>\n",
       "      <td>27504.0</td>\n",
       "      <td>67.222186</td>\n",
       "      <td>8.968875</td>\n",
       "      <td>56.0</td>\n",
       "      <td>60.0</td>\n",
       "      <td>65.0</td>\n",
       "      <td>73.0</td>\n",
       "      <td>115.0</td>\n",
       "    </tr>\n",
       "  </tbody>\n",
       "</table>\n",
       "</div>"
      ],
      "text/plain": [
       "               count       mean       std   min   25%   50%   75%    max\n",
       "Groups                                                                  \n",
       "Infant       22139.0   5.369348  4.168631   0.0   1.0   5.0   9.0   13.0\n",
       "Teenager      6727.0  16.154006  1.389205  14.0  15.0  16.0  17.0   18.0\n",
       "Young Adult  24137.0  27.077392  4.962661  19.0  23.0  27.0  31.0   35.0\n",
       "Adult        30019.0  45.615677  5.843961  36.0  40.0  46.0  51.0   55.0\n",
       "Elder Adult  27504.0  67.222186  8.968875  56.0  60.0  65.0  73.0  115.0"
      ]
     },
     "execution_count": 40,
     "metadata": {},
     "output_type": "execute_result"
    }
   ],
   "source": [
    "#Verify changes are effective\n",
    "print(medical.info())\n",
    "\n",
    "medical['Age'].groupby(medical['Groups']).describe()"
   ]
  },
  {
   "cell_type": "markdown",
   "metadata": {},
   "source": [
    "# SOLVE"
   ]
  },
  {
   "cell_type": "markdown",
   "metadata": {},
   "source": [
    "<a id='eda'></a>\n",
    "## Exploratory Data Analysis\n",
    "The general goal of the report is to determine the most common reasons for no show appointments and any ways to reduce the number. The analysis will take a look at three factors: The use of text message reminders, no shows for various age groups, and no shows percentages for gender types. \n",
    "\n",
    "Through this analysis, healthcare group will be able to effecietlvy create a marketing strategy to reduce the number of no shows.\n",
    "\n",
    "### Research Question 1 (Are text message reminders effective?)\n",
    ">The first thing that we will take a look at is the effectivness of text messages. We will explore the relationship between sending out a text message and the number of people who do not show up for their appointment. A general hypothesis is that by sending a text message reminder, it will reduce the number of no show appointments. "
   ]
  },
  {
   "cell_type": "code",
   "execution_count": 7,
   "metadata": {
    "scrolled": false
   },
   "outputs": [
    {
     "data": {
      "text/html": [
       "<div>\n",
       "<style scoped>\n",
       "    .dataframe tbody tr th:only-of-type {\n",
       "        vertical-align: middle;\n",
       "    }\n",
       "\n",
       "    .dataframe tbody tr th {\n",
       "        vertical-align: top;\n",
       "    }\n",
       "\n",
       "    .dataframe thead th {\n",
       "        text-align: right;\n",
       "    }\n",
       "</style>\n",
       "<table border=\"1\" class=\"dataframe\">\n",
       "  <thead>\n",
       "    <tr style=\"text-align: right;\">\n",
       "      <th></th>\n",
       "      <th>PatientId</th>\n",
       "      <th>Gender</th>\n",
       "      <th>Age</th>\n",
       "      <th>SMS_received</th>\n",
       "      <th>No-show</th>\n",
       "      <th>Groups</th>\n",
       "    </tr>\n",
       "  </thead>\n",
       "  <tbody>\n",
       "    <tr>\n",
       "      <th>0</th>\n",
       "      <td>2.98725e+13</td>\n",
       "      <td>F</td>\n",
       "      <td>62</td>\n",
       "      <td>0</td>\n",
       "      <td>No</td>\n",
       "      <td>Elder Adult</td>\n",
       "    </tr>\n",
       "    <tr>\n",
       "      <th>1</th>\n",
       "      <td>5.58998e+14</td>\n",
       "      <td>M</td>\n",
       "      <td>56</td>\n",
       "      <td>0</td>\n",
       "      <td>No</td>\n",
       "      <td>Elder Adult</td>\n",
       "    </tr>\n",
       "    <tr>\n",
       "      <th>2</th>\n",
       "      <td>4.26296e+12</td>\n",
       "      <td>F</td>\n",
       "      <td>62</td>\n",
       "      <td>0</td>\n",
       "      <td>No</td>\n",
       "      <td>Elder Adult</td>\n",
       "    </tr>\n",
       "    <tr>\n",
       "      <th>3</th>\n",
       "      <td>8.67951e+11</td>\n",
       "      <td>F</td>\n",
       "      <td>8</td>\n",
       "      <td>0</td>\n",
       "      <td>No</td>\n",
       "      <td>Infant</td>\n",
       "    </tr>\n",
       "    <tr>\n",
       "      <th>4</th>\n",
       "      <td>8.84119e+12</td>\n",
       "      <td>F</td>\n",
       "      <td>56</td>\n",
       "      <td>0</td>\n",
       "      <td>No</td>\n",
       "      <td>Elder Adult</td>\n",
       "    </tr>\n",
       "  </tbody>\n",
       "</table>\n",
       "</div>"
      ],
      "text/plain": [
       "     PatientId Gender  Age  SMS_received No-show       Groups\n",
       "0  2.98725e+13      F   62             0      No  Elder Adult\n",
       "1  5.58998e+14      M   56             0      No  Elder Adult\n",
       "2  4.26296e+12      F   62             0      No  Elder Adult\n",
       "3  8.67951e+11      F    8             0      No       Infant\n",
       "4  8.84119e+12      F   56             0      No  Elder Adult"
      ]
     },
     "execution_count": 7,
     "metadata": {},
     "output_type": "execute_result"
    }
   ],
   "source": [
    "# Since I'm going to be working with only certain columns, I'm dropping the unncessesary columns\n",
    "research = medical.drop(columns = ['Neighbourhood','Hypertension','Diabetes','Alcoholism' ,'Handicap','ScheduledDay','AppointmentDay','Scholarship' ,'AppointmentID'])\n",
    "research.head()"
   ]
  },
  {
   "cell_type": "markdown",
   "metadata": {},
   "source": [
    "I'm going to next pull up the data for analysis. Intitially I'm going to pull the numbers to see the number of patients who were a no show vs those who showed up for their appointment."
   ]
  },
  {
   "cell_type": "code",
   "execution_count": 8,
   "metadata": {
    "scrolled": false
   },
   "outputs": [
    {
     "name": "stdout",
     "output_type": "stream",
     "text": [
      "There number of patients who did not show up for their appointment is: 22319\n",
      "The number of patients who showed up for their appointment is: 88208\n",
      "The percentage of patients who did not show up for their appointment is: 25 %\n",
      "The percentage of patients who showed up for their appointment is: 75 %\n"
     ]
    }
   ],
   "source": [
    "#In this section, we will seperate the number of no shows into those who showed up for their appointment and those who were a no show\n",
    "no_shows = research[research[('No-show')] == 'Yes']\n",
    "showed = research[research[('No-show')] == 'No']\n",
    "\n",
    "print(\"There number of patients who did not show up for their appointment is:\", len(no_shows))\n",
    "print('The number of patients who showed up for their appointment is:', len(showed))\n",
    "print('The percentage of patients who did not show up for their appointment is:',  round((len(no_shows) / len(showed)) * 100),'%')\n",
    "print('The percentage of patients who showed up for their appointment is:',  round((1 - len(no_shows) / len(showed)) * 100),'%')"
   ]
  },
  {
   "cell_type": "code",
   "execution_count": 9,
   "metadata": {
    "scrolled": true
   },
   "outputs": [
    {
     "data": {
      "image/png": "[encoded data removed]",
      "text/plain": [
       "<matplotlib.figure.Figure at 0x7ff77467b550>"
      ]
     },
     "metadata": {
      "needs_background": "light"
     },
     "output_type": "display_data"
    }
   ],
   "source": [
    "base_color = sb.color_palette()[0]\n",
    "sb.countplot(data = research, x = 'No-show', color = base_color)\n",
    "plt.title('Showed vs No Shows')\n",
    "plt.ylabel('Number of Patients');"
   ]
  },
  {
   "cell_type": "code",
   "execution_count": 10,
   "metadata": {},
   "outputs": [
    {
     "data": {
      "image/png": "[encoded data removed]",
      "text/plain": [
       "<matplotlib.figure.Figure at 0x7ff744654a90>"
      ]
     },
     "metadata": {
      "needs_background": "light"
     },
     "output_type": "display_data"
    }
   ],
   "source": [
    "r1 = research.shape[0]\n",
    "maxr = research['No-show'].value_counts().max()\n",
    "max_prop = maxr / r1\n",
    "tick_props = np.arange(0, max_prop, 0.05)\n",
    "tick_names = ['{:0.2f}'.format(v) for v in tick_props]\n",
    "\n",
    "sb.countplot(data = research, x = 'No-show', color = base_color)\n",
    "plt.yticks(tick_props * r1, tick_names)\n",
    "plt.ylabel('Percent of Patients')\n",
    "plt.title('Percent of No Show Vs Showed');"
   ]
  },
  {
   "cell_type": "markdown",
   "metadata": {},
   "source": [
    "### Quick Analysis"
   ]
  },
  {
   "cell_type": "markdown",
   "metadata": {},
   "source": [
    "From first glance, it appears that there is a high percentage of individuals who are a no show for their appointments. On average, 1/4 patients are a no show. "
   ]
  },
  {
   "cell_type": "markdown",
   "metadata": {},
   "source": [
    "## Analysis of Text Message Effectivness"
   ]
  },
  {
   "cell_type": "markdown",
   "metadata": {},
   "source": [
    "I'm going to first explore the data for patients who did not show up for their appointments. I'm going to split the two groups into a total of four seperate data sets. \n",
    ">1. Patients who did not show up for their appointment and did not receive a text\n",
    ">2. Patients who did not show up for their appointment and did receive a text\n",
    ">3. Patients who showed up for their appoitnment and did not receive a text\n",
    ">4. Patients who showed up for their appointment and did receive a text\n",
    "\n",
    "By measuring the data received from these groups, it will be beneficial to be able to see if text messages are an effecitve means at reducing the number of no show appointments"
   ]
  },
  {
   "cell_type": "markdown",
   "metadata": {},
   "source": [
    "### No Show Appointments\n",
    "In this section we will explore the relationship between no show appointments and text messages. With this initial data, we will be able to establish a basis for further analysis."
   ]
  },
  {
   "cell_type": "code",
   "execution_count": 11,
   "metadata": {
    "scrolled": true
   },
   "outputs": [
    {
     "name": "stdout",
     "output_type": "stream",
     "text": [
      "Number of No Shows With No Text: 12535\n",
      "Number of No Shows With With Text: 9784\n",
      "Percentage of No Shows With No Text Reminder: 56 %\n",
      "Percentage of No Shows With With Text Reminder: 44 %\n"
     ]
    }
   ],
   "source": [
    "#Breaking up no shows in to whether or no they received a text message\n",
    "no_show_no_text = no_shows[no_shows['SMS_received'] == 0]\n",
    "no_show_with_text = no_shows[no_shows['SMS_received'] == 1]\n",
    "\n",
    "#Finding total length of no shows\n",
    "total_no_shows = len(no_shows)\n",
    "#Determining the length of those who did not receive a text \n",
    "no_show_no_text_length = len(no_show_no_text)\n",
    "# those who received a text\n",
    "no_show_with_text_length = len(no_show_with_text)\n",
    "\n",
    "#Calculating the percentage of no shows who did not receive a text\n",
    "no_show_no_text_percent = round((no_show_no_text_length / total_no_shows)*100)\n",
    "\n",
    "#Calulcating the percentage of no shows who did receive a text\n",
    "no_show_with_text_percent = round((no_show_with_text_length / total_no_shows)*100)\n",
    "\n",
    "\n",
    "print ('Number of No Shows With No Text:', no_show_no_text_length)\n",
    "print ('Number of No Shows With With Text:', no_show_with_text_length)\n",
    "print ('Percentage of No Shows With No Text Reminder:',no_show_no_text_percent,'%')\n",
    "print ('Percentage of No Shows With With Text Reminder:',no_show_with_text_percent,'%')\n"
   ]
  },
  {
   "cell_type": "markdown",
   "metadata": {},
   "source": [
    "This next graph shows the number of no show appointments for those who received a text versus those who did not receive a text. "
   ]
  },
  {
   "cell_type": "code",
   "execution_count": 12,
   "metadata": {
    "scrolled": true
   },
   "outputs": [
    {
     "data": {
      "image/png": "[encoded data removed]",
      "text/plain": [
       "<matplotlib.figure.Figure at 0x7ff77459c1d0>"
      ]
     },
     "metadata": {
      "needs_background": "light"
     },
     "output_type": "display_data"
    }
   ],
   "source": [
    "sb.countplot(data = no_shows, x = 'SMS_received', color = base_color)\n",
    "plt.ylabel('Number of Patients')\n",
    "plt.title('No Show Appointments No Text vs Text');\n"
   ]
  },
  {
   "cell_type": "markdown",
   "metadata": {},
   "source": [
    "The following graph shows the pecentage of no show patients who received a text."
   ]
  },
  {
   "cell_type": "code",
   "execution_count": 13,
   "metadata": {},
   "outputs": [
    {
     "data": {
      "image/png": "[encoded data removed]",
      "text/plain": [
       "<matplotlib.figure.Figure at 0x7ff74496d518>"
      ]
     },
     "metadata": {
      "needs_background": "light"
     },
     "output_type": "display_data"
    }
   ],
   "source": [
    "r1 = no_shows.shape[0]\n",
    "maxr = no_shows['SMS_received'].value_counts().max()\n",
    "max_prop = maxr / r1\n",
    "tick_props = np.arange(0, max_prop, 0.05)\n",
    "tick_names = ['{:0.2f}'.format(v) for v in tick_props]\n",
    "\n",
    "sb.countplot(data = no_shows, x = 'SMS_received', color = base_color)\n",
    "plt.yticks(tick_props * r1, tick_names)\n",
    "plt.ylabel('Percent of Patients')\n",
    "plt.title('Percent of No Shows: No Text vs Text');"
   ]
  },
  {
   "cell_type": "markdown",
   "metadata": {},
   "source": [
    "### Quick Analysis\n",
    "There is only a 14% difference in no show appointments who received a text against those who did not receive a text. "
   ]
  },
  {
   "cell_type": "markdown",
   "metadata": {},
   "source": [
    "### Showed Appointments"
   ]
  },
  {
   "cell_type": "markdown",
   "metadata": {},
   "source": [
    "In this section, we will take a look at the relationship between those who showed up for their appointments."
   ]
  },
  {
   "cell_type": "code",
   "execution_count": 14,
   "metadata": {},
   "outputs": [
    {
     "name": "stdout",
     "output_type": "stream",
     "text": [
      "The total number of patients who showed up for their appointment is: 88208\n",
      "The total number of patients who showed up without recieving a text message: 62510\n",
      "The total number of patients who showed up after receiving a text reminder: 25698\n",
      "The percent of patients who showed up without receiving a text: 71 %\n",
      "The percent of patients who showed up after receiving a text reminder 29 %\n"
     ]
    }
   ],
   "source": [
    "#Breaking up no shows in to whether or no they received a text message\n",
    "show_no_text = showed[showed['SMS_received'] == 0]\n",
    "show_with_text = showed[showed['SMS_received'] == 1]\n",
    "\n",
    "#Calculating Lengths of tables\n",
    "total_no_show_length = len(showed)\n",
    "show_no_text_length = len(show_no_text)\n",
    "show_with_text_length = len(show_with_text)\n",
    "\n",
    "#Calculating Percentages of Tables\n",
    "show_no_text_percent = round((show_no_text_length / total_no_show_length)*100)\n",
    "show_with_text_percent = round((show_with_text_length / total_no_show_length)*100)\n",
    "\n",
    "print('The total number of patients who showed up for their appointment is:', total_no_show_length)\n",
    "print('The total number of patients who showed up without recieving a text message:', show_no_text_length)\n",
    "print('The total number of patients who showed up after receiving a text reminder:', show_with_text_length)\n",
    "print('The percent of patients who showed up without receiving a text:', show_no_text_percent, '%')\n",
    "print('The percent of patients who showed up after receiving a text reminder', show_with_text_percent, '%')"
   ]
  },
  {
   "cell_type": "code",
   "execution_count": 15,
   "metadata": {
    "scrolled": true
   },
   "outputs": [
    {
     "data": {
      "image/png": "[encoded data removed]",
      "text/plain": [
       "<matplotlib.figure.Figure at 0x7ff743e427b8>"
      ]
     },
     "metadata": {
      "needs_background": "light"
     },
     "output_type": "display_data"
    }
   ],
   "source": [
    "sb.countplot(data = showed, x = 'SMS_received', color = base_color)\n",
    "plt.ylabel('Number of Patients')\n",
    "plt.title('Showed Patients: No Text vs Text');"
   ]
  },
  {
   "cell_type": "code",
   "execution_count": 16,
   "metadata": {},
   "outputs": [
    {
     "data": {
      "image/png": "[encoded data removed]",
      "text/plain": [
       "<matplotlib.figure.Figure at 0x7ff744d49390>"
      ]
     },
     "metadata": {
      "needs_background": "light"
     },
     "output_type": "display_data"
    }
   ],
   "source": [
    "showed_shape = showed.shape[0]\n",
    "maxr = showed['SMS_received'].value_counts().max()\n",
    "max_prop = maxr / showed_shape\n",
    "tick_props = np.arange(0, max_prop, 0.05)\n",
    "tick_names = ['{:0.2f}'.format(v) for v in tick_props]\n",
    "\n",
    "sb.countplot(data = showed, x = 'SMS_received', color = base_color)\n",
    "plt.yticks(tick_props * showed_shape, tick_names)\n",
    "plt.ylabel('Percent of Patients')\n",
    "plt.title('Percent of No Shows: No Text vs Text');"
   ]
  },
  {
   "cell_type": "markdown",
   "metadata": {},
   "source": [
    "### Brief Analysis\n",
    ">Overall the number of people who showed without receiving a text message is higher than those who did receive a text message. \n",
    "However, it is to believed that the number of people who receive a message since no show count is on avergae lower, it is safe to assume that this number would be much lower if a text was not sent."
   ]
  },
  {
   "cell_type": "markdown",
   "metadata": {},
   "source": [
    "### Research Question 2 (Which Age Group Has A Higher No Show Rate)\n",
    ">The final section will determine the relationship between those who showed and didnt show up for their appointments based on the patients age range. This will help to determine which group has a higher likley hood of being a no show and thus be able to target these groups better if there is a relationship."
   ]
  },
  {
   "cell_type": "code",
   "execution_count": 17,
   "metadata": {
    "scrolled": true
   },
   "outputs": [
    {
     "data": {
      "text/html": [
       "<div>\n",
       "<style scoped>\n",
       "    .dataframe tbody tr th:only-of-type {\n",
       "        vertical-align: middle;\n",
       "    }\n",
       "\n",
       "    .dataframe tbody tr th {\n",
       "        vertical-align: top;\n",
       "    }\n",
       "\n",
       "    .dataframe thead th {\n",
       "        text-align: right;\n",
       "    }\n",
       "</style>\n",
       "<table border=\"1\" class=\"dataframe\">\n",
       "  <thead>\n",
       "    <tr style=\"text-align: right;\">\n",
       "      <th></th>\n",
       "      <th>Groups</th>\n",
       "      <th>count</th>\n",
       "    </tr>\n",
       "  </thead>\n",
       "  <tbody>\n",
       "    <tr>\n",
       "      <th>0</th>\n",
       "      <td>Infant</td>\n",
       "      <td>22139</td>\n",
       "    </tr>\n",
       "    <tr>\n",
       "      <th>1</th>\n",
       "      <td>Teenager</td>\n",
       "      <td>6727</td>\n",
       "    </tr>\n",
       "    <tr>\n",
       "      <th>2</th>\n",
       "      <td>Young Adult</td>\n",
       "      <td>24137</td>\n",
       "    </tr>\n",
       "    <tr>\n",
       "      <th>3</th>\n",
       "      <td>Adult</td>\n",
       "      <td>30019</td>\n",
       "    </tr>\n",
       "    <tr>\n",
       "      <th>4</th>\n",
       "      <td>Elder Adult</td>\n",
       "      <td>27504</td>\n",
       "    </tr>\n",
       "  </tbody>\n",
       "</table>\n",
       "</div>"
      ],
      "text/plain": [
       "        Groups  count\n",
       "0       Infant  22139\n",
       "1     Teenager   6727\n",
       "2  Young Adult  24137\n",
       "3        Adult  30019\n",
       "4  Elder Adult  27504"
      ]
     },
     "execution_count": 17,
     "metadata": {},
     "output_type": "execute_result"
    }
   ],
   "source": [
    "#Calculating the total value count for each age group\n",
    "total_groups = research.groupby(['Groups']).size().rename('count').reset_index()\n",
    "total_groups"
   ]
  },
  {
   "cell_type": "code",
   "execution_count": 18,
   "metadata": {
    "scrolled": false
   },
   "outputs": [
    {
     "data": {
      "image/png": "[encoded data removed]",
      "text/plain": [
       "<matplotlib.figure.Figure at 0x7ff744959dd8>"
      ]
     },
     "metadata": {
      "needs_background": "light"
     },
     "output_type": "display_data"
    }
   ],
   "source": [
    "# Graphing the age groups data\n",
    "sb.countplot(data = research, x = 'Groups', color = base_color)\n",
    "plt.xlabel('Age Groups')\n",
    "plt.ylabel('Number of Patients')\n",
    "plt.title('Age Groups by Count');"
   ]
  },
  {
   "cell_type": "code",
   "execution_count": 19,
   "metadata": {},
   "outputs": [
    {
     "data": {
      "image/png": "[encoded data removed]",
      "text/plain": [
       "<matplotlib.figure.Figure at 0x7ff744963b38>"
      ]
     },
     "metadata": {},
     "output_type": "display_data"
    }
   ],
   "source": [
    "plot = plt.pie(total_groups['count'], labels = total_groups['Groups'], shadow = False, startangle = 90, autopct = '%1.1f%%')\n",
    "plt.tight_layout()\n",
    "plt.show()\n"
   ]
  },
  {
   "cell_type": "markdown",
   "metadata": {},
   "source": [
    "In the following steps, I'm going to first split the groups into those who did not show for their appointmenr and those who did show for their appointment."
   ]
  },
  {
   "cell_type": "code",
   "execution_count": 20,
   "metadata": {},
   "outputs": [],
   "source": [
    "#Seperating those who showed up for their appointment and those wo did not show up for their appointment\n",
    "showed = research[research['No-show'] == 'No']\n",
    "no_show = research[research['No-show'] == 'Yes']\n",
    "showed_length = len(showed)\n",
    "no_show_length = len(no_show)"
   ]
  },
  {
   "cell_type": "markdown",
   "metadata": {},
   "source": [
    "Next, I'm going to put each age group into a bucket. I noticed that there is a low number of teenagers compared to the rest, and in order to acheive an accurate analysis, it is more efficient to measure by the total percent of each age group rather than as a whole. This will tell us which percent of each age group has the highest amount of no shows."
   ]
  },
  {
   "cell_type": "markdown",
   "metadata": {},
   "source": [
    "I'm first going to analyze the showed age groups"
   ]
  },
  {
   "cell_type": "code",
   "execution_count": 21,
   "metadata": {},
   "outputs": [],
   "source": [
    "#Splitting each age group into their respective buckets\n",
    "adults = research[research['Groups'] == 'Adult']\n",
    "elder_adult= research[research['Groups'] == 'Elder Adult']\n",
    "young_adult = research[research['Groups'] == 'Young Adult']\n",
    "infant = research[research['Groups'] == 'Infant']\n",
    "teenager= research[research['Groups'] == 'Teenager']\n",
    "\n",
    "#Measuring the length of each group\n",
    "adult_length = len(adults)\n",
    "elder_adult_length = len(elder_adult)\n",
    "young_adult_length = len(young_adult)\n",
    "infant_length = len(infant)\n",
    "teenager_length = len(teenager)"
   ]
  },
  {
   "cell_type": "markdown",
   "metadata": {},
   "source": [
    "Finding the Showed Age Group Data"
   ]
  },
  {
   "cell_type": "code",
   "execution_count": 22,
   "metadata": {},
   "outputs": [
    {
     "data": {
      "text/html": [
       "<div>\n",
       "<style scoped>\n",
       "    .dataframe tbody tr th:only-of-type {\n",
       "        vertical-align: middle;\n",
       "    }\n",
       "\n",
       "    .dataframe tbody tr th {\n",
       "        vertical-align: top;\n",
       "    }\n",
       "\n",
       "    .dataframe thead th {\n",
       "        text-align: right;\n",
       "    }\n",
       "</style>\n",
       "<table border=\"1\" class=\"dataframe\">\n",
       "  <thead>\n",
       "    <tr style=\"text-align: right;\">\n",
       "      <th></th>\n",
       "      <th>Groups</th>\n",
       "      <th>count</th>\n",
       "    </tr>\n",
       "  </thead>\n",
       "  <tbody>\n",
       "    <tr>\n",
       "      <th>0</th>\n",
       "      <td>Infant</td>\n",
       "      <td>17529</td>\n",
       "    </tr>\n",
       "    <tr>\n",
       "      <th>1</th>\n",
       "      <td>Teenager</td>\n",
       "      <td>4990</td>\n",
       "    </tr>\n",
       "    <tr>\n",
       "      <th>2</th>\n",
       "      <td>Young Adult</td>\n",
       "      <td>18384</td>\n",
       "    </tr>\n",
       "    <tr>\n",
       "      <th>3</th>\n",
       "      <td>Adult</td>\n",
       "      <td>24103</td>\n",
       "    </tr>\n",
       "    <tr>\n",
       "      <th>4</th>\n",
       "      <td>Elder Adult</td>\n",
       "      <td>23201</td>\n",
       "    </tr>\n",
       "  </tbody>\n",
       "</table>\n",
       "</div>"
      ],
      "text/plain": [
       "        Groups  count\n",
       "0       Infant  17529\n",
       "1     Teenager   4990\n",
       "2  Young Adult  18384\n",
       "3        Adult  24103\n",
       "4  Elder Adult  23201"
      ]
     },
     "execution_count": 22,
     "metadata": {},
     "output_type": "execute_result"
    }
   ],
   "source": [
    "show_totals = showed.groupby(['Groups']).size().rename('count').reset_index()\n",
    "show_totals"
   ]
  },
  {
   "cell_type": "code",
   "execution_count": 23,
   "metadata": {},
   "outputs": [],
   "source": [
    "#Splitting each age group into it's own data function so that way I can find the actual percent of showed for each age group\n",
    "showed_adults = showed[showed['Groups'] == 'Adult']\n",
    "showed_elder_adult= showed[showed['Groups'] == 'Elder Adult']\n",
    "showed_young_adult = showed[showed['Groups'] == 'Young Adult']\n",
    "showed_infant = showed[showed['Groups'] == 'Infant']\n",
    "showed_teenager= showed[showed['Groups'] == 'Teenager']\n",
    "\n",
    "#Calculating the percent of each age group\n",
    "\n",
    "showed_adult_percent = len(showed_adults) / adult_length\n",
    "showed_elder_adult_percent = len(showed_elder_adult) / elder_adult_length\n",
    "showed_young_adult_percent = len(showed_young_adult) / young_adult_length\n",
    "showed_infant_percent =len(showed_infant) / infant_length \n",
    "showed_teenager_percent = len(showed_teenager) / teenager_length\n",
    "\n",
    "#Putting each percent into a datafunction\n",
    "group = [showed_adult_percent, showed_elder_adult_percent, showed_young_adult_percent, showed_infant_percent, showed_teenager_percent  ]\n"
   ]
  },
  {
   "cell_type": "code",
   "execution_count": 24,
   "metadata": {},
   "outputs": [
    {
     "name": "stdout",
     "output_type": "stream",
     "text": [
      "The percent of patients of Infant age who showed up for their appointment 79 %\n",
      "The percent of patients of Teenager age who showed up for their appointment 74 %\n",
      "The percent of patients of Young Adult age who showed up for their appointment 76 %\n",
      "The percent of patients of Adult age who showed up for their appointment 80 %\n",
      "The percent of patients of Elder Adult age who showed up for their appointment 84 %\n"
     ]
    }
   ],
   "source": [
    "print ('The percent of patients of Infant age who showed up for their appointment', round(showed_infant_percent*100), '%')\n",
    "print ('The percent of patients of Teenager age who showed up for their appointment', round(showed_teenager_percent*100), '%')\n",
    "print ('The percent of patients of Young Adult age who showed up for their appointment', round(showed_young_adult_percent*100), '%')\n",
    "print ('The percent of patients of Adult age who showed up for their appointment', round(showed_adult_percent*100), '%')\n",
    "print ('The percent of patients of Elder Adult age who showed up for their appointment', round(showed_elder_adult_percent*100), '%')\n"
   ]
  },
  {
   "cell_type": "markdown",
   "metadata": {},
   "source": [
    "Graphing the data"
   ]
  },
  {
   "cell_type": "code",
   "execution_count": 25,
   "metadata": {
    "scrolled": false
   },
   "outputs": [
    {
     "data": {
      "image/png": "[encoded data removed]",
      "text/plain": [
       "<matplotlib.figure.Figure at 0x7ff744b92748>"
      ]
     },
     "metadata": {
      "needs_background": "light"
     },
     "output_type": "display_data"
    }
   ],
   "source": [
    "#Creating bin labels\n",
    "group_names = ('Adult', 'Elder Adult', 'Young Adult', 'Infant', 'Teenager')\n",
    "y_pos = np.arange(len(group_names))\n",
    "\n",
    "plt.bar(y_pos, group, align='center')\n",
    "plt.xticks(y_pos, group_names)\n",
    "plt.ylabel('Showed Percentage')\n",
    "plt.title('Showed Age Group Percentages')\n",
    "\n",
    "plt.show()"
   ]
  },
  {
   "cell_type": "markdown",
   "metadata": {},
   "source": [
    "### Quick Analysis\n",
    "It seems that teenagers have the lowest amount of shows based on their total numbers. Elder adults has the highest number of showed appointments."
   ]
  },
  {
   "cell_type": "code",
   "execution_count": 26,
   "metadata": {},
   "outputs": [],
   "source": [
    "#Adding the groups into datafunctions\n",
    "no_show_adults = no_show[no_show['Groups'] == 'Adult']\n",
    "no_show_elder_adult= no_show[no_show['Groups'] == 'Elder Adult']\n",
    "no_show_young_adult = no_show[no_show['Groups'] == 'Young Adult']\n",
    "no_show_infant = no_show[no_show['Groups'] == 'Infant']\n",
    "no_show_teenager= no_show[no_show['Groups'] == 'Teenager']\n",
    "\n",
    "#calculating the length\n",
    "no_show_adult_length = len(no_show_adults)\n",
    "no_show_elder_adult_length = len(no_show_elder_adult)\n",
    "no_show_young_adult_length = len(no_show_young_adult)\n",
    "no_show_infant_length = len(no_show_infant)\n",
    "no_show_teenager_length = len(no_show_teenager)\n",
    "\n",
    "#Calcualting the percentages\n",
    "no_show_adult_percent = no_show_adult_length / adult_length\n",
    "no_show_elder_adult_percent = no_show_elder_adult_length / elder_adult_length\n",
    "no_show_young_adult_percent = no_show_young_adult_length / young_adult_length\n",
    "no_show_infant_percent =no_show_infant_length / infant_length \n",
    "no_show_teenager_percent = no_show_teenager_length / teenager_length\n",
    "no_show_group = [no_show_adult_percent, no_show_elder_adult_percent, no_show_young_adult_percent, no_show_infant_percent, no_show_teenager_percent  ]"
   ]
  },
  {
   "cell_type": "code",
   "execution_count": 27,
   "metadata": {
    "scrolled": true
   },
   "outputs": [
    {
     "data": {
      "image/png": "[encoded data removed]",
      "text/plain": [
       "<matplotlib.figure.Figure at 0x7ff744ba35c0>"
      ]
     },
     "metadata": {
      "needs_background": "light"
     },
     "output_type": "display_data"
    }
   ],
   "source": [
    "no_show_group_names = ('Adult', 'Elder Adult', 'Young Adult', 'Infant', 'Teenager')\n",
    "y_pos = np.arange(len(no_show_group_names))\n",
    "performance = [no_show_adult_percent ,no_show_elder_adult_percent,no_show_young_adult_percent,no_show_infant_percent,no_show_teenager_percent]\n",
    "\n",
    "plt.bar(y_pos, no_show_group, align='center')\n",
    "plt.xticks(y_pos, no_show_group_names)\n",
    "plt.ylabel('No Show Percent')\n",
    "plt.title('No Show Age Group Percent')\n",
    "\n",
    "plt.show()"
   ]
  },
  {
   "cell_type": "markdown",
   "metadata": {},
   "source": [
    "### Quick Analaysis\n",
    ">Teenagers and young adults have the highest percentage of no shows while elder adults has the least."
   ]
  },
  {
   "cell_type": "markdown",
   "metadata": {},
   "source": [
    "### Research Question 3: Which Age Groups Are Most Responsive to Text Messages\n",
    ">In this section, we're going to analyze the relationship between the age groups and how responsive they are to receieving a text message."
   ]
  },
  {
   "cell_type": "code",
   "execution_count": 28,
   "metadata": {
    "scrolled": false
   },
   "outputs": [
    {
     "name": "stdout",
     "output_type": "stream",
     "text": [
      "Number of people who did not receive a text: 75045\n",
      "Number of people who received a text: 35482\n"
     ]
    }
   ],
   "source": [
    "#Breaking up the groups into received text and no text received\n",
    "received_text = research[research[('SMS_received')] == 1]\n",
    "no_text = research[research[('SMS_received')] == 0]\n",
    "print ('Number of people who did not receive a text:', len(no_text))\n",
    "print ('Number of people who received a text:', len(received_text))\n"
   ]
  },
  {
   "cell_type": "markdown",
   "metadata": {},
   "source": [
    "Patients who received a text"
   ]
  },
  {
   "cell_type": "code",
   "execution_count": 29,
   "metadata": {
    "scrolled": true
   },
   "outputs": [
    {
     "data": {
      "text/html": [
       "<div>\n",
       "<style scoped>\n",
       "    .dataframe tbody tr th:only-of-type {\n",
       "        vertical-align: middle;\n",
       "    }\n",
       "\n",
       "    .dataframe tbody tr th {\n",
       "        vertical-align: top;\n",
       "    }\n",
       "\n",
       "    .dataframe thead th {\n",
       "        text-align: right;\n",
       "    }\n",
       "</style>\n",
       "<table border=\"1\" class=\"dataframe\">\n",
       "  <thead>\n",
       "    <tr style=\"text-align: right;\">\n",
       "      <th></th>\n",
       "      <th>Groups</th>\n",
       "      <th>count</th>\n",
       "    </tr>\n",
       "  </thead>\n",
       "  <tbody>\n",
       "    <tr>\n",
       "      <th>0</th>\n",
       "      <td>Infant</td>\n",
       "      <td>6526</td>\n",
       "    </tr>\n",
       "    <tr>\n",
       "      <th>1</th>\n",
       "      <td>Teenager</td>\n",
       "      <td>1923</td>\n",
       "    </tr>\n",
       "    <tr>\n",
       "      <th>2</th>\n",
       "      <td>Young Adult</td>\n",
       "      <td>8301</td>\n",
       "    </tr>\n",
       "    <tr>\n",
       "      <th>3</th>\n",
       "      <td>Adult</td>\n",
       "      <td>10015</td>\n",
       "    </tr>\n",
       "    <tr>\n",
       "      <th>4</th>\n",
       "      <td>Elder Adult</td>\n",
       "      <td>8717</td>\n",
       "    </tr>\n",
       "  </tbody>\n",
       "</table>\n",
       "</div>"
      ],
      "text/plain": [
       "        Groups  count\n",
       "0       Infant   6526\n",
       "1     Teenager   1923\n",
       "2  Young Adult   8301\n",
       "3        Adult  10015\n",
       "4  Elder Adult   8717"
      ]
     },
     "execution_count": 29,
     "metadata": {},
     "output_type": "execute_result"
    }
   ],
   "source": [
    "received_text_groups = received_text.groupby(['Groups']).size().rename('count').reset_index()\n",
    "received_text_groups"
   ]
  },
  {
   "cell_type": "markdown",
   "metadata": {},
   "source": [
    "Patients who did not receive a text"
   ]
  },
  {
   "cell_type": "code",
   "execution_count": 30,
   "metadata": {},
   "outputs": [
    {
     "data": {
      "text/html": [
       "<div>\n",
       "<style scoped>\n",
       "    .dataframe tbody tr th:only-of-type {\n",
       "        vertical-align: middle;\n",
       "    }\n",
       "\n",
       "    .dataframe tbody tr th {\n",
       "        vertical-align: top;\n",
       "    }\n",
       "\n",
       "    .dataframe thead th {\n",
       "        text-align: right;\n",
       "    }\n",
       "</style>\n",
       "<table border=\"1\" class=\"dataframe\">\n",
       "  <thead>\n",
       "    <tr style=\"text-align: right;\">\n",
       "      <th></th>\n",
       "      <th>Groups</th>\n",
       "      <th>count</th>\n",
       "    </tr>\n",
       "  </thead>\n",
       "  <tbody>\n",
       "    <tr>\n",
       "      <th>0</th>\n",
       "      <td>Infant</td>\n",
       "      <td>15613</td>\n",
       "    </tr>\n",
       "    <tr>\n",
       "      <th>1</th>\n",
       "      <td>Teenager</td>\n",
       "      <td>4804</td>\n",
       "    </tr>\n",
       "    <tr>\n",
       "      <th>2</th>\n",
       "      <td>Young Adult</td>\n",
       "      <td>15836</td>\n",
       "    </tr>\n",
       "    <tr>\n",
       "      <th>3</th>\n",
       "      <td>Adult</td>\n",
       "      <td>20004</td>\n",
       "    </tr>\n",
       "    <tr>\n",
       "      <th>4</th>\n",
       "      <td>Elder Adult</td>\n",
       "      <td>18787</td>\n",
       "    </tr>\n",
       "  </tbody>\n",
       "</table>\n",
       "</div>"
      ],
      "text/plain": [
       "        Groups  count\n",
       "0       Infant  15613\n",
       "1     Teenager   4804\n",
       "2  Young Adult  15836\n",
       "3        Adult  20004\n",
       "4  Elder Adult  18787"
      ]
     },
     "execution_count": 30,
     "metadata": {},
     "output_type": "execute_result"
    }
   ],
   "source": [
    "no_text_groups = no_text.groupby(['Groups']).size().rename('count').reset_index()\n",
    "no_text_groups"
   ]
  },
  {
   "cell_type": "code",
   "execution_count": 31,
   "metadata": {
    "scrolled": true
   },
   "outputs": [],
   "source": [
    "#Splitting up those who did not received a text and were either a no show or a show\n",
    "no_text_no_show = no_text[no_text['No-show'] == 'Yes']\n",
    "no_text_show = no_text[no_text['No-show'] == 'No']\n",
    "\n",
    "#Splitting up those who received a text and were either a no show or a show\n",
    "text_with_show = received_text[received_text['No-show'] == 'Yes']\n",
    "text_with_no_show = received_text[received_text['No-show'] == 'No']"
   ]
  },
  {
   "cell_type": "markdown",
   "metadata": {},
   "source": [
    "Graphing the data for those who received a text and those who did not receive a text"
   ]
  },
  {
   "cell_type": "code",
   "execution_count": 32,
   "metadata": {
    "scrolled": true
   },
   "outputs": [
    {
     "data": {
      "image/png": "[encoded data removed]",
      "text/plain": [
       "<matplotlib.figure.Figure at 0x7ff744ca57f0>"
      ]
     },
     "metadata": {
      "needs_background": "light"
     },
     "output_type": "display_data"
    }
   ],
   "source": [
    "#Number of people who have received a text vs those who haven't graph\n",
    "no_text['Groups'].hist(label = 'No Text')\n",
    "received_text['Groups'].hist(label = 'Received Text')\n",
    "plt.xlabel('Age Groups')\n",
    "plt.ylabel('Number of Individuals')\n",
    "plt.title ('Text vs No Text')\n",
    "plt.legend();"
   ]
  },
  {
   "cell_type": "code",
   "execution_count": 33,
   "metadata": {
    "scrolled": true
   },
   "outputs": [
    {
     "data": {
      "image/png": "[encoded data removed]",
      "text/plain": [
       "<matplotlib.figure.Figure at 0x7ff743e084a8>"
      ]
     },
     "metadata": {},
     "output_type": "display_data"
    }
   ],
   "source": [
    "#Plotting the total percentages of each age group that did not receive a text\n",
    "plt.pie(no_text_groups['count'], labels = no_text_groups['Groups'], autopct = '%1.1f%%')\n",
    "plt.title('No Text by Age Groups');"
   ]
  },
  {
   "cell_type": "code",
   "execution_count": 34,
   "metadata": {
    "scrolled": true
   },
   "outputs": [
    {
     "data": {
      "image/png": "[encoded data removed]",
      "text/plain": [
       "<matplotlib.figure.Figure at 0x7ff744b1a0f0>"
      ]
     },
     "metadata": {},
     "output_type": "display_data"
    }
   ],
   "source": [
    "#Plotting the total percentages of each age group that received a text\n",
    "plt.pie(received_text_groups['count'], labels = received_text_groups['Groups'], autopct = '%1.1f%%')\n",
    "plt.title('Received Text by Age Groups');"
   ]
  },
  {
   "cell_type": "markdown",
   "metadata": {},
   "source": [
    "### No Text Received Age Group Analysis\n",
    "Analayzing the relationship between age groups and their no show status with no text sent.\n",
    "Showing the numbers of people who did not receive a text message and were either a show or a no show"
   ]
  },
  {
   "cell_type": "code",
   "execution_count": 35,
   "metadata": {
    "scrolled": true
   },
   "outputs": [
    {
     "name": "stdout",
     "output_type": "stream",
     "text": [
      "The number of patients who did not receive a text and did not show: 62510\n",
      "The number of patients who did not receive a text and did not show: 12535\n"
     ]
    }
   ],
   "source": [
    "print('The number of patients who did not receive a text and did not show:', len(no_text_show))\n",
    "print('The number of patients who did not receive a text and did not show:', len(no_text_no_show))"
   ]
  },
  {
   "cell_type": "markdown",
   "metadata": {},
   "source": [
    "Number of Patients who did not receive a text and showed up by age group"
   ]
  },
  {
   "cell_type": "code",
   "execution_count": 36,
   "metadata": {
    "scrolled": true
   },
   "outputs": [
    {
     "data": {
      "text/html": [
       "<div>\n",
       "<style scoped>\n",
       "    .dataframe tbody tr th:only-of-type {\n",
       "        vertical-align: middle;\n",
       "    }\n",
       "\n",
       "    .dataframe tbody tr th {\n",
       "        vertical-align: top;\n",
       "    }\n",
       "\n",
       "    .dataframe thead th {\n",
       "        text-align: right;\n",
       "    }\n",
       "</style>\n",
       "<table border=\"1\" class=\"dataframe\">\n",
       "  <thead>\n",
       "    <tr style=\"text-align: right;\">\n",
       "      <th></th>\n",
       "      <th>Groups</th>\n",
       "      <th>count</th>\n",
       "    </tr>\n",
       "  </thead>\n",
       "  <tbody>\n",
       "    <tr>\n",
       "      <th>0</th>\n",
       "      <td>Infant</td>\n",
       "      <td>12910</td>\n",
       "    </tr>\n",
       "    <tr>\n",
       "      <th>1</th>\n",
       "      <td>Teenager</td>\n",
       "      <td>3743</td>\n",
       "    </tr>\n",
       "    <tr>\n",
       "      <th>2</th>\n",
       "      <td>Young Adult</td>\n",
       "      <td>12905</td>\n",
       "    </tr>\n",
       "    <tr>\n",
       "      <th>3</th>\n",
       "      <td>Adult</td>\n",
       "      <td>16744</td>\n",
       "    </tr>\n",
       "    <tr>\n",
       "      <th>4</th>\n",
       "      <td>Elder Adult</td>\n",
       "      <td>16207</td>\n",
       "    </tr>\n",
       "  </tbody>\n",
       "</table>\n",
       "</div>"
      ],
      "text/plain": [
       "        Groups  count\n",
       "0       Infant  12910\n",
       "1     Teenager   3743\n",
       "2  Young Adult  12905\n",
       "3        Adult  16744\n",
       "4  Elder Adult  16207"
      ]
     },
     "execution_count": 36,
     "metadata": {},
     "output_type": "execute_result"
    }
   ],
   "source": [
    "#No Text With Show\n",
    "no_text_show.groupby(['Groups']).size().rename('count').reset_index()"
   ]
  },
  {
   "cell_type": "markdown",
   "metadata": {},
   "source": [
    "Number of Patients who did not receive a text and did not show up by age group"
   ]
  },
  {
   "cell_type": "code",
   "execution_count": 37,
   "metadata": {},
   "outputs": [
    {
     "data": {
      "text/html": [
       "<div>\n",
       "<style scoped>\n",
       "    .dataframe tbody tr th:only-of-type {\n",
       "        vertical-align: middle;\n",
       "    }\n",
       "\n",
       "    .dataframe tbody tr th {\n",
       "        vertical-align: top;\n",
       "    }\n",
       "\n",
       "    .dataframe thead th {\n",
       "        text-align: right;\n",
       "    }\n",
       "</style>\n",
       "<table border=\"1\" class=\"dataframe\">\n",
       "  <thead>\n",
       "    <tr style=\"text-align: right;\">\n",
       "      <th></th>\n",
       "      <th>Groups</th>\n",
       "      <th>count</th>\n",
       "    </tr>\n",
       "  </thead>\n",
       "  <tbody>\n",
       "    <tr>\n",
       "      <th>0</th>\n",
       "      <td>Infant</td>\n",
       "      <td>2703</td>\n",
       "    </tr>\n",
       "    <tr>\n",
       "      <th>1</th>\n",
       "      <td>Teenager</td>\n",
       "      <td>1061</td>\n",
       "    </tr>\n",
       "    <tr>\n",
       "      <th>2</th>\n",
       "      <td>Young Adult</td>\n",
       "      <td>2931</td>\n",
       "    </tr>\n",
       "    <tr>\n",
       "      <th>3</th>\n",
       "      <td>Adult</td>\n",
       "      <td>3260</td>\n",
       "    </tr>\n",
       "    <tr>\n",
       "      <th>4</th>\n",
       "      <td>Elder Adult</td>\n",
       "      <td>2580</td>\n",
       "    </tr>\n",
       "  </tbody>\n",
       "</table>\n",
       "</div>"
      ],
      "text/plain": [
       "        Groups  count\n",
       "0       Infant   2703\n",
       "1     Teenager   1061\n",
       "2  Young Adult   2931\n",
       "3        Adult   3260\n",
       "4  Elder Adult   2580"
      ]
     },
     "execution_count": 37,
     "metadata": {},
     "output_type": "execute_result"
    }
   ],
   "source": [
    "#No Text No Show\n",
    "no_text_no_show.groupby(['Groups']).size().rename('count').reset_index()"
   ]
  },
  {
   "cell_type": "markdown",
   "metadata": {},
   "source": [
    "Graphing the relationship between those who did not receive a text and whether or not they showed for their appointment"
   ]
  },
  {
   "cell_type": "code",
   "execution_count": 38,
   "metadata": {
    "scrolled": true
   },
   "outputs": [
    {
     "data": {
      "image/png": "[encoded data removed]",
      "text/plain": [
       "<matplotlib.figure.Figure at 0x7ff743ccb4e0>"
      ]
     },
     "metadata": {
      "needs_background": "light"
     },
     "output_type": "display_data"
    }
   ],
   "source": [
    "#Graphing the patients who did not receive a text, showed vs no show\n",
    "no_text_show['Groups'].hist(label = 'Showed')\n",
    "no_text_no_show['Groups'].hist(label = 'No Show')\n",
    "plt.legend()\n",
    "plt.ylabel('Number of Patients')\n",
    "plt.title('No Text: Show vs No Show')\n",
    "plt.xlabel('Age Groups');"
   ]
  },
  {
   "cell_type": "markdown",
   "metadata": {},
   "source": [
    "### Patients Who Received A Text: No Show vs Showed Analysis\n",
    "Analayzing patients who received a text and whether or not they showed."
   ]
  },
  {
   "cell_type": "code",
   "execution_count": 39,
   "metadata": {
    "scrolled": true
   },
   "outputs": [
    {
     "data": {
      "text/html": [
       "<div>\n",
       "<style scoped>\n",
       "    .dataframe tbody tr th:only-of-type {\n",
       "        vertical-align: middle;\n",
       "    }\n",
       "\n",
       "    .dataframe tbody tr th {\n",
       "        vertical-align: top;\n",
       "    }\n",
       "\n",
       "    .dataframe thead th {\n",
       "        text-align: right;\n",
       "    }\n",
       "</style>\n",
       "<table border=\"1\" class=\"dataframe\">\n",
       "  <thead>\n",
       "    <tr style=\"text-align: right;\">\n",
       "      <th></th>\n",
       "      <th>Groups</th>\n",
       "      <th>count</th>\n",
       "    </tr>\n",
       "  </thead>\n",
       "  <tbody>\n",
       "    <tr>\n",
       "      <th>0</th>\n",
       "      <td>Infant</td>\n",
       "      <td>4619</td>\n",
       "    </tr>\n",
       "    <tr>\n",
       "      <th>1</th>\n",
       "      <td>Teenager</td>\n",
       "      <td>1247</td>\n",
       "    </tr>\n",
       "    <tr>\n",
       "      <th>2</th>\n",
       "      <td>Young Adult</td>\n",
       "      <td>5479</td>\n",
       "    </tr>\n",
       "    <tr>\n",
       "      <th>3</th>\n",
       "      <td>Adult</td>\n",
       "      <td>7359</td>\n",
       "    </tr>\n",
       "    <tr>\n",
       "      <th>4</th>\n",
       "      <td>Elder Adult</td>\n",
       "      <td>6994</td>\n",
       "    </tr>\n",
       "  </tbody>\n",
       "</table>\n",
       "</div>"
      ],
      "text/plain": [
       "        Groups  count\n",
       "0       Infant   4619\n",
       "1     Teenager   1247\n",
       "2  Young Adult   5479\n",
       "3        Adult   7359\n",
       "4  Elder Adult   6994"
      ]
     },
     "execution_count": 39,
     "metadata": {},
     "output_type": "execute_result"
    }
   ],
   "source": [
    "#patients who received a text and didnt show.\n",
    "text_with_no_show.groupby(['Groups']).size().rename('count').reset_index()"
   ]
  },
  {
   "cell_type": "code",
   "execution_count": 40,
   "metadata": {},
   "outputs": [
    {
     "data": {
      "text/html": [
       "<div>\n",
       "<style scoped>\n",
       "    .dataframe tbody tr th:only-of-type {\n",
       "        vertical-align: middle;\n",
       "    }\n",
       "\n",
       "    .dataframe tbody tr th {\n",
       "        vertical-align: top;\n",
       "    }\n",
       "\n",
       "    .dataframe thead th {\n",
       "        text-align: right;\n",
       "    }\n",
       "</style>\n",
       "<table border=\"1\" class=\"dataframe\">\n",
       "  <thead>\n",
       "    <tr style=\"text-align: right;\">\n",
       "      <th></th>\n",
       "      <th>Groups</th>\n",
       "      <th>count</th>\n",
       "    </tr>\n",
       "  </thead>\n",
       "  <tbody>\n",
       "    <tr>\n",
       "      <th>0</th>\n",
       "      <td>Infant</td>\n",
       "      <td>1907</td>\n",
       "    </tr>\n",
       "    <tr>\n",
       "      <th>1</th>\n",
       "      <td>Teenager</td>\n",
       "      <td>676</td>\n",
       "    </tr>\n",
       "    <tr>\n",
       "      <th>2</th>\n",
       "      <td>Young Adult</td>\n",
       "      <td>2822</td>\n",
       "    </tr>\n",
       "    <tr>\n",
       "      <th>3</th>\n",
       "      <td>Adult</td>\n",
       "      <td>2656</td>\n",
       "    </tr>\n",
       "    <tr>\n",
       "      <th>4</th>\n",
       "      <td>Elder Adult</td>\n",
       "      <td>1723</td>\n",
       "    </tr>\n",
       "  </tbody>\n",
       "</table>\n",
       "</div>"
      ],
      "text/plain": [
       "        Groups  count\n",
       "0       Infant   1907\n",
       "1     Teenager    676\n",
       "2  Young Adult   2822\n",
       "3        Adult   2656\n",
       "4  Elder Adult   1723"
      ]
     },
     "execution_count": 40,
     "metadata": {},
     "output_type": "execute_result"
    }
   ],
   "source": [
    "#Patients who received a text and showed\n",
    "text_with_show.groupby(['Groups']).size().rename('count').reset_index()"
   ]
  },
  {
   "cell_type": "code",
   "execution_count": 41,
   "metadata": {},
   "outputs": [
    {
     "data": {
      "image/png": "[encoded data removed]",
      "text/plain": [
       "<matplotlib.figure.Figure at 0x7ff743d95550>"
      ]
     },
     "metadata": {
      "needs_background": "light"
     },
     "output_type": "display_data"
    }
   ],
   "source": [
    "# Patients who received a text: No show vs Showed graph\n",
    "text_with_no_show['Groups'].hist(label = 'No Show')\n",
    "text_with_show['Groups'].hist(label = 'Showed')\n",
    "plt.legend()\n",
    "plt.ylabel('Number of Patients')\n",
    "plt.title('Recieved Text: Show vs No Show')\n",
    "plt.xlabel('Age Groups');"
   ]
  },
  {
   "cell_type": "markdown",
   "metadata": {},
   "source": [
    "### Quick Analysis\n",
    "It appears as though teenagers had the greater overall percentage of their total showing up after recieving a text message. "
   ]
  },
  {
   "cell_type": "markdown",
   "metadata": {},
   "source": [
    "# TRANSLATE"
   ]
  },
  {
   "cell_type": "markdown",
   "metadata": {},
   "source": [
    "<a id='conclusions'></a>\n",
    "## Conclusions\n",
    ">**Results:** Basesd on the information gathered: <br><br>\n",
    ">Research Question 1\n",
    ">\n",
    ">    1. It is inconclusive whether or not text messages are effective. The number of patients who received a text message and did not show for their appointment is only 14% more than those who did not recieve a text message. \n",
    ">    2. There's no concrete evidence that shows the patients who did not recieve a text are more likley to not show for it. The same goes for those who showed for their appointments. \n",
    ">    3. While there is a larger number of patients who showed up for their appointments, the number of those who did not receive a text was higher than those who did. This can of course be attributed to the idea that more likley, people are going to show up for their appointments regardless so this number will ultimatley be higher. \n",
    "\n",
    ">**Limitations**:\n",
    ">    1. More data is needed to accuratley conclude whether texting is effective. One way would be to collect additional data at time of check in, see whether or not they showed up for their appointment because of the reminder or not. \n",
    ">    2. Measuring what time a text was sent in relation to when their appointment is set would also be beneficial. This would be another factor to measure the effectivness of text messaging.\n",
    ">    3. Having a lack of detailed information about the text message including their content is a limitaiton as well.\n",
    "\n",
    "\n",
    ">**Research Question 2**:\n",
    ">    1. Teenagers and Young adults have the highest amount of no shows and the lowest amount of showed appointments. \n",
    ">    2. Elder adults have the highest amount of showed appointments and lowest amount of no shows. \n",
    ">    3. It can probably be assumed that elder adults care more about their health than say a young teenager. They also have a greater sense of responsibility. Noticed that infant and adult share a similar number of showed and no show patients. I can see this because infants rely on adults bringing them to their appointments so it would make snese if these numbers are similar. \n",
    "\n",
    ">**Limitations**:\n",
    ">    1.\tThere are a great number (3539) of people with the age 0. Not sure if place is pediatrics, but results may be skewed if or incorrect wit the age\n",
    ">    2.\tWithout access to the person who entered the data, there is uncertantiy over whether or no there are duplicates on file. While it is highly unlikely that a person with the same appointment date has the same age, there is no way to definativley determine if it is the same person since often times there are minor differences in the supposed matches. For example, a patient may match on age, appointment date, and city, but will differ on gender or patient will match all major characteristics, but also have an additional or less indicator for condition. \n",
    "\n",
    ">**Research Question 3**: Which Age Groups Are Most Responsive to Text Messages\n",
    "\n",
    ">    1.The biggest impact to receiving text messaging was in the teenager and young adult sections. These groups had the highest amount of shows based on receiving a text message.\n",
    ">    2. While inconclusive, it can be said that text messaging works on these specific groups\n",
    ">    3. Text messaging seems to be least effective for the elder adult category.\n",
    "\n",
    ">**Limitations**:\n",
    ">    1. There is no data on the content of the text messages, this would help to dive deeper into the analytics and test which message might be more effective. \n",
    ">    2. Some additional questions to ask would be on cell phone usage, to determine if indivduals even use a text per each age group. \n",
    ">    3. The data doenst allow for any other means of communication, for instance, phone calls for elderly might be more effective. Also lacking data showing any targeted analytics is detrimental to the study as well."
   ]
  },
  {
   "cell_type": "code",
   "execution_count": 42,
   "metadata": {},
   "outputs": [
    {
     "data": {
      "text/plain": [
       "0"
      ]
     },
     "execution_count": 42,
     "metadata": {},
     "output_type": "execute_result"
    }
   ],
   "source": [
    "from subprocess import call\n",
    "call(['python', '-m', 'nbconvert', 'Investigate_a_Dataset-Copy2.ipynb'])"
   ]
  }
 ],
 "metadata": {
  "kernelspec": {
   "display_name": "Python 3",
   "language": "python",
   "name": "python3"
  },
  "language_info": {
   "codemirror_mode": {
    "name": "ipython",
    "version": 3
   },
   "file_extension": ".py",
   "mimetype": "text/x-python",
   "name": "python",
   "nbconvert_exporter": "python",
   "pygments_lexer": "ipython3",
   "version": "3.6.3"
  }
 },
 "nbformat": 4,
 "nbformat_minor": 2
}
